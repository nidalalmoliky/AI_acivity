{
 "cells": [
  {
   "cell_type": "code",
   "execution_count": null,
   "metadata": {},
   "outputs": [
    {
     "name": "stdout",
     "output_type": "stream",
     "text": [
      "    neo_id                name  absolute_magnitude  estimated_diameter_min  \\\n",
      "0  2162117  162117 (1998 SD15)               19.14                0.394962   \n",
      "1  2349507    349507 (2008 QY)               18.50                0.530341   \n",
      "2  2455415    455415 (2003 GA)               21.45                0.136319   \n",
      "3  3132126           (2002 PB)               20.63                0.198863   \n",
      "4  3557844           (2011 DW)               22.70                0.076658   \n",
      "\n",
      "   estimated_diameter_max orbiting_body  relative_velocity  miss_distance  \\\n",
      "0                0.883161         Earth       71745.401048   5.814362e+07   \n",
      "1                1.185878         Earth      109949.757148   5.580105e+07   \n",
      "2                0.304818         Earth       24865.506798   6.720689e+07   \n",
      "3                0.444672         Earth       78890.076805   3.039644e+07   \n",
      "4                0.171412         Earth       56036.519484   6.311863e+07   \n",
      "\n",
      "   is_hazardous  \n",
      "0         False  \n",
      "1          True  \n",
      "2         False  \n",
      "3         False  \n",
      "4         False  \n"
     ]
    }
   ],
   "source": [
    "#CSVواجب ال\n",
    "\n",
    "\n",
    "#ناسا | أقرب الأجسام إلى الأرض (1910-2024)\n",
    "\n",
    "import pandas as pd\n",
    "from sklearn.model_selection import train_test_split\n",
    "from sklearn.preprocessing import StandardScaler\n",
    "from sklearn.svm import SVC\n",
    "from sklearn.metrics import classification_report, accuracy_score\n",
    "\n",
    "# استبدل هذا المسار بمسار ملف البيانات الخاص بك\n",
    "file_path = file_path = \"dataset_svc.csv\"\n",
    "\n",
    "# تحميل البيانات\n",
    "data = pd.read_csv(file_path)\n",
    "\n",
    "# عرض بعض الصفوف من البيانات للتحقق من تحميلها بشكل صحيح\n",
    "print(data.head())\n",
    "\n",
    "# تحديد الأعمدة التي تريد استخدامها\n",
    "features = ['absolute_magnitude', 'estimated_diameter_min', 'estimated_diameter_max', 'relative_velocity', 'miss_distance']\n",
    "target = 'is_hazardous'\n",
    "\n",
    "# فصل البيانات إلى ميزات (X) وهدف (y)\n",
    "X = data[features]\n",
    "y = data[target]\n",
    "\n",
    "# معالجة القيم المفقودة\n",
    "# حذف الصفوف التي تحتوي على قيم مفقودة\n",
    "X = X.dropna()\n",
    "y = y[X.index]\n",
    "\n",
    "# التحقق من القيم غير النهائية (مثل NaN وInfinity)\n",
    "# تحويل البيانات إلى أرقام وتحديد القيم غير الصحيحة\n",
    "X = X.replace([float('inf'), -float('inf')], pd.NA).dropna()\n",
    "y = y[X.index]\n",
    "\n",
    "# تقسيم البيانات إلى مجموعات تدريب واختبار\n",
    "X_train, X_test, y_train, y_test = train_test_split(X, y, test_size=0.3, random_state=42)\n",
    "\n",
    "# توحيد البيانات\n",
    "scaler = StandardScaler()\n",
    "X_train = scaler.fit_transform(X_train)\n",
    "X_test = scaler.transform(X_test)\n",
    "\n",
    "# إنشاء نموذج SVM\n",
    "model = SVC(kernel='linear', random_state=42)  # يمكنك تغيير kernel إلى 'rbf', 'poly', إلخ\n",
    "\n",
    "# تدريب النموذج\n",
    "model.fit(X_train, y_train)\n",
    "\n",
    "# إجراء التنبؤات\n",
    "y_pred = model.predict(X_test)\n",
    "\n",
    "# تقييم النموذج\n",
    "print(\"Accuracy Score:\", accuracy_score(y_test, y_pred))\n",
    "print(\"\\nClassification Report:\\n\", classification_report(y_test, y_pred))\n",
    "\n"
   ]
  },
  {
   "cell_type": "code",
   "execution_count": null,
   "metadata": {},
   "outputs": [],
   "source": []
  }
 ],
 "metadata": {
  "kernelspec": {
   "display_name": "Python 3",
   "language": "python",
   "name": "python3"
  },
  "language_info": {
   "codemirror_mode": {
    "name": "ipython",
    "version": 3
   },
   "file_extension": ".py",
   "mimetype": "text/x-python",
   "name": "python",
   "nbconvert_exporter": "python",
   "pygments_lexer": "ipython3",
   "version": "3.8.5"
  }
 },
 "nbformat": 4,
 "nbformat_minor": 5
}
